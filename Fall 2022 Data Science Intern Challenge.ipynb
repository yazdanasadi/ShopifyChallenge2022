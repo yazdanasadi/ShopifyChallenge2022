{
 "cells": [
  {
   "cell_type": "markdown",
   "id": "cb28ae9a",
   "metadata": {},
   "source": [
    "<h1><center>Fall 2022 Data Science Intern Challenge</center></h1> \n",
    "<h2><center>Yazdan Asadi</center></h2> "
   ]
  },
  {
   "cell_type": "markdown",
   "id": "6795d87c",
   "metadata": {},
   "source": [
    "<b>Question 1</b>: Given some sample data, write a program to answer the following: click here to\n",
    "access the required data set <br>\n",
    "\n",
    "On Shopify, we have exactly 100 sneaker shops, and each of these shops sells only one\n",
    "model of shoe. We want to do some analysis of the average order value (AOV). When\n",
    "we look at orders data over a 30 day window, we naively calculate an AOV of $3145.13.\n",
    "Given that we know these shops are selling sneakers, a relatively affordable item,\n",
    "something seems wrong with our analysis."
   ]
  },
  {
   "cell_type": "code",
   "execution_count": 52,
   "id": "ae0bdf73",
   "metadata": {},
   "outputs": [],
   "source": [
    "import pandas as pd"
   ]
  },
  {
   "cell_type": "markdown",
   "id": "eda6f35a",
   "metadata": {},
   "source": [
    "### Preprocessing Data/Useful informations"
   ]
  },
  {
   "cell_type": "code",
   "execution_count": 53,
   "id": "3ad51f81",
   "metadata": {},
   "outputs": [],
   "source": [
    "data = pd.read_csv(\"2019 Winter Data Science Intern Challenge Data Set - Sheet1.csv\",sep= ',')"
   ]
  },
  {
   "cell_type": "code",
   "execution_count": 54,
   "id": "00508866",
   "metadata": {},
   "outputs": [
    {
     "name": "stdout",
     "output_type": "stream",
     "text": [
      "Data Overview: \n",
      "    order_id  shop_id  user_id  order_amount  total_items payment_method  \\\n",
      "0         1       53      746           224            2           cash   \n",
      "1         2       92      925            90            1           cash   \n",
      "2         3       44      861           144            1           cash   \n",
      "3         4       18      935           156            1    credit_card   \n",
      "4         5       18      883           156            1    credit_card   \n",
      "\n",
      "            created_at  \n",
      "0  2017-03-13 12:36:56  \n",
      "1  2017-03-03 17:38:52  \n",
      "2   2017-03-14 4:23:56  \n",
      "3  2017-03-26 12:43:37  \n",
      "4   2017-03-01 4:35:11  \n",
      "====================================================================================================\n",
      "Number of Rows and Columns: (5000, 7)\n",
      "====================================================================================================\n",
      "Data types and non-null values:\n",
      "<class 'pandas.core.frame.DataFrame'>\n",
      "RangeIndex: 5000 entries, 0 to 4999\n",
      "Data columns (total 7 columns):\n",
      " #   Column          Non-Null Count  Dtype \n",
      "---  ------          --------------  ----- \n",
      " 0   order_id        5000 non-null   int64 \n",
      " 1   shop_id         5000 non-null   int64 \n",
      " 2   user_id         5000 non-null   int64 \n",
      " 3   order_amount    5000 non-null   int64 \n",
      " 4   total_items     5000 non-null   int64 \n",
      " 5   payment_method  5000 non-null   object\n",
      " 6   created_at      5000 non-null   object\n",
      "dtypes: int64(5), object(2)\n",
      "memory usage: 273.6+ KB\n",
      "None\n",
      "====================================================================================================\n",
      "Checking Missing Values in Dataset order_id          0\n",
      "shop_id           0\n",
      "user_id           0\n",
      "order_amount      0\n",
      "total_items       0\n",
      "payment_method    0\n",
      "created_at        0\n",
      "dtype: int64\n"
     ]
    }
   ],
   "source": [
    "print(\"Data Overview: \\n\",data.head(5))\n",
    "print(\"==\"*50)\n",
    "print(\"Number of Rows and Columns:\",data.shape)\n",
    "print(\"==\"*50)\n",
    "print(\"Data types and non-null values:\")\n",
    "print(data.info())\n",
    "print(\"==\"*50)\n",
    "print(\"Checking Missing Values in Dataset\", data.isna().sum())"
   ]
  },
  {
   "cell_type": "markdown",
   "id": "57cc4dc6",
   "metadata": {},
   "source": [
    "### Problem definition"
   ]
  },
  {
   "cell_type": "markdown",
   "id": "c3ff7e5d",
   "metadata": {},
   "source": [
    "<b> a)Think about what could be going wrong with our calculation. Think about a better\n",
    "way to evaluate this data.</b> <br>\n",
    "<b> b)What metric would you report for this dataset?</b> Sum of Total items and Order amounts <br> \n",
    "<b> c)What is its value?<b> <br>"
   ]
  },
  {
   "cell_type": "markdown",
   "id": "b0bc2f04",
   "metadata": {},
   "source": [
    "First we need to find the Avg Order Value, by dividing sum of total order by total items."
   ]
  },
  {
   "cell_type": "code",
   "execution_count": 55,
   "id": "88302e12",
   "metadata": {},
   "outputs": [],
   "source": [
    "total_order = data['order_amount'].sum()\n",
    "total_items = data['total_items'].sum()"
   ]
  },
  {
   "cell_type": "code",
   "execution_count": 56,
   "id": "745fb8e1",
   "metadata": {},
   "outputs": [
    {
     "name": "stdout",
     "output_type": "stream",
     "text": [
      "Sum of Total Order:  15725640\n",
      "Sum of Total Items:  43936\n",
      "Average Order Value: 357.92152221412965\n"
     ]
    }
   ],
   "source": [
    "print(\"Sum of Total Order: \",total_order)\n",
    "print(\"Sum of Total Items: \",total_items)\n",
    "print(\"Average Order Value:\", total_order/total_items)"
   ]
  },
  {
   "cell_type": "markdown",
   "id": "cdc3b6a9",
   "metadata": {},
   "source": [
    "dividng total order/ wrong calculation leads to the fact that Data analyst used the total number of row instead of Sum of total items for AOV."
   ]
  },
  {
   "cell_type": "code",
   "execution_count": 57,
   "id": "a9689364",
   "metadata": {},
   "outputs": [
    {
     "name": "stdout",
     "output_type": "stream",
     "text": [
      "Reverse Engineering Solution: 5000\n",
      "Wrong Calculation: 3145.128\n"
     ]
    }
   ],
   "source": [
    "print(\"Reverse Engineering Solution:\", round(total_order/3145.13))\n",
    "print(\"Wrong Calculation:\", total_order/5000)"
   ]
  },
  {
   "cell_type": "markdown",
   "id": "80ab8d41",
   "metadata": {},
   "source": [
    "------------------------------------------------------------------------------------------------------------------------------"
   ]
  },
  {
   "cell_type": "markdown",
   "id": "97888c75",
   "metadata": {},
   "source": [
    "<b>Question 2</b>: For this question you’ll need to use SQL. Follow this link to access the data set\n",
    "required for the challenge. Please use queries to answer the following questions. Paste your\n",
    "queries along with your final numerical answers below. <br>\n",
    "\n",
    "b. What is the last name of the employee with the most orders?\n",
    "c. What product was ordered the most by customers in Germany?"
   ]
  },
  {
   "cell_type": "markdown",
   "id": "c9a507d8",
   "metadata": {},
   "source": [
    "#### a. How many orders were shipped by Speedy Express in total? 54\n",
    "We Check the ShipperID of Speedy Express: '1'. Then count the number of orders by 1 in Orders."
   ]
  },
  {
   "cell_type": "markdown",
   "id": "3b8b436c",
   "metadata": {},
   "source": [
    "<b>Query: <br> </b>\n",
    "SELECT COUNT(ShipperID) FROM Orders WHERE ShipperID = 1;"
   ]
  },
  {
   "cell_type": "markdown",
   "id": "14efd432",
   "metadata": {},
   "source": [
    "#### b. What is the last name of the employee with the most orders? Peacock, 40\n",
    "Because there is no possiblity to use JOIN tables in the website, we first need to find the EmployeeID with the most orders by ORDER BY COUNT() desc, then we can select the LastName with the value of 4 in the Employees Table."
   ]
  },
  {
   "cell_type": "markdown",
   "id": "41d68098",
   "metadata": {},
   "source": [
    "<b>Query: <br> </b>\n",
    "SELECT EmployeeID, COUNT(*) FROM Orders GROUP BY EmployeeID ORDER BY COUNT(*) desc; <br>\n",
    "SELECT LastName from Employees WHERE EmployeeID = 4"
   ]
  },
  {
   "cell_type": "markdown",
   "id": "55007305",
   "metadata": {},
   "source": [
    "#### c. What product was ordered the most by customers in Germany? Camembert Pierrot, 12000\n"
   ]
  },
  {
   "cell_type": "markdown",
   "id": "14693b78",
   "metadata": {},
   "source": [
    "For this question we need to use JOIN function on three tables (Customers, Orders, OrderDetail), then find the order with higher quantity for specific Customer Where has the 'Germany' value."
   ]
  },
  {
   "cell_type": "markdown",
   "id": "8a7b1306",
   "metadata": {},
   "source": [
    "CREATE VIEW OrdersProd AS SELECT Orders.OrderID, Customers.Country, OrderDetails.Quantity, Products.ProductName FROM Orders, OrderDetails JOIN Customers ON Orders.CustomerID=Customers.CustomerID JOIN Products ON OrderDetails.ProductID=Products.ProductID WHERE Country='Germany';\n",
    "\n",
    "CREATE VIEW OrdersProd AS SELECT ProductName, Quantity, COUNT(*) as 'Orders' FROM OrdersProd GROUP BY ProductName;\n",
    "\n",
    "SELECT ProductName, (Quantity * Orders) AS Total FROM OrdersProd ORDER BY Total desc;"
   ]
  }
 ],
 "metadata": {
  "kernelspec": {
   "display_name": "Python 3 (ipykernel)",
   "language": "python",
   "name": "python3"
  },
  "language_info": {
   "codemirror_mode": {
    "name": "ipython",
    "version": 3
   },
   "file_extension": ".py",
   "mimetype": "text/x-python",
   "name": "python",
   "nbconvert_exporter": "python",
   "pygments_lexer": "ipython3",
   "version": "3.9.7"
  }
 },
 "nbformat": 4,
 "nbformat_minor": 5
}
